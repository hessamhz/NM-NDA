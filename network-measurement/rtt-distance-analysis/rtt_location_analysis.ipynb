{
  "nbformat": 4,
  "nbformat_minor": 0,
  "metadata": {
    "colab": {
      "provenance": [],
      "authorship_tag": "ABX9TyPN5RN8/aExrM/BkWAJJgpu"
    },
    "kernelspec": {
      "name": "python3",
      "display_name": "Python 3"
    },
    "language_info": {
      "name": "python"
    }
  },
  "cells": [
    {
      "cell_type": "markdown",
      "source": [
        "# Network Measurements and Data Analysis Lab Homework 1 \n",
        "The goal of this homework is to investigate the relationship between the Round-Trip Time (RTT) and the distance between two nodes in a network. In this notebook, we will explore aspects of this relationship.\n",
        "\n",
        "We will begin by collecting data on RTT between our location crawling the [Speedtest](https://www.speedtest.net). Then, we will analyze the data and try to identify any patterns or trends that exist. Finally, we will draw conclusions based on our analysis.\n",
        "\n",
        "Our approach will involve the following steps:\n",
        "\n",
        "1. Collect data on RTT\n",
        "2. Analyze the RTT data according to the distance\n",
        "3. Choosing an alternate dataset\n",
        "4. Diving deeper into the problem (Continent Analysis)\n",
        "5. Interpret the results and draw conclusions\n",
        "\n",
        "We will be using Python programming language, various data analysis libraries such as NumPy, Pandas, and Matplotlib, and pythonping.\n",
        "\n",
        "Let's get started!"
      ],
      "metadata": {
        "id": "Gs304iKazTZt"
      }
    },
    {
      "cell_type": "code",
      "source": [
        "# For colab integration\n",
        "!pip install pythonping "
      ],
      "metadata": {
        "colab": {
          "base_uri": "https://localhost:8080/"
        },
        "id": "XPHyHlyUVKAb",
        "outputId": "11b890bc-af83-42be-9a20-2aed610debb3"
      },
      "execution_count": null,
      "outputs": [
        {
          "output_type": "stream",
          "name": "stdout",
          "text": [
            "Looking in indexes: https://pypi.org/simple, https://us-python.pkg.dev/colab-wheels/public/simple/\n",
            "Collecting pythonping\n",
            "  Downloading pythonping-1.1.4-py3-none-any.whl (16 kB)\n",
            "Installing collected packages: pythonping\n",
            "Successfully installed pythonping-1.1.4\n"
          ]
        }
      ]
    },
    {
      "cell_type": "code",
      "execution_count": 43,
      "metadata": {
        "id": "MHapKJ6WTYIA"
      },
      "outputs": [],
      "source": [
        "# Note that these needs to be installed if you are not using colab\n",
        "import pandas as pd\n",
        "import numpy as np\n",
        "import matplotlib.pyplot as plt\n",
        "import seaborn as sns\n",
        "from statsmodels import api as sm\n",
        "\n",
        "# Python library to use ICMP\n",
        "from pythonping import ping"
      ]
    },
    {
      "cell_type": "markdown",
      "source": [
        "## Collect Data on RTT\n",
        "\n",
        "To obtain the server list data for our analysis, I used a crawled dataset from Speedtest servers. However, the initial dataset was too large, with around 11k rows. Therefore, I extracted a small sample of 150 servers that were all pingable to ensure the cleanliness of the data. Since the data from Speedtest servers did not include latitude and longitude attributes, which are crucial for measuring distance, I used the website [IP Location](https://www.iplocation.net/ip-lookup) to locate the exact server locations and gather other useful data such as IP, region, and country. This step is important as it helps to ensure the cleanliness of the data for future analysis. For the sake of making this notebook as clean as possible I didn't put the data extractor script here (it's in the directory). we will use the updated_slice.csv file as our dataset.*italicized text*"
      ],
      "metadata": {
        "id": "iE2m3ex_zf8b"
      }
    },
    {
      "cell_type": "code",
      "source": [
        "# Reading the CSV file with \"NA\" as valid values since NA means North America\n",
        "df = pd.read_csv(\"updated_slice_f.csv\")\n",
        "\n",
        "# Head of the data\n",
        "df.head(10)"
      ],
      "metadata": {
        "id": "5rRW1dztYvRk",
        "colab": {
          "base_uri": "https://localhost:8080/",
          "height": 548
        },
        "outputId": "cb484209-3708-4fda-9775-5eef95fc21ec"
      },
      "execution_count": null,
      "outputs": [
        {
          "output_type": "execute_result",
          "data": {
            "text/plain": [
              "         Country          City      Continent        Provider  \\\n",
              "0         Russia        Moscow         Europe         Beeline   \n",
              "1  United States       Atlanta  North America   Newworld CATV   \n",
              "2  United States    Schaumburg  North America         XenSpec   \n",
              "3         Russia   Yoshkar-Ola         Europe          DOM.RU   \n",
              "4       Colombia  Barranquilla  South America         TigoUne   \n",
              "5         Brazil       Ibiruba  South America           DGNet   \n",
              "6         Brazil    Guarapuava  South America  Almix Internet   \n",
              "7          Italy        Latina         Europe      Panservice   \n",
              "8         Poland      Debowiec         Europe      FHU Vifnet   \n",
              "9       Tanzania        Arusha         Africa  Arusha Art Ltd   \n",
              "\n",
              "                          Host        Ping  Latitude  Longitude  \\\n",
              "0   msk-speedtest2.corbina.net  223.802867   55.7522    37.6156   \n",
              "1        test1.newworldcatv.ph  188.460067   33.7490   -84.3880   \n",
              "2         sp.netinformatik.com  182.235651   42.0142   -88.0932   \n",
              "3  speedtest.yola.ertelecom.ru  295.499843   56.6388    47.8908   \n",
              "4    speedtestbaq1.tigo.com.co  234.448352   10.9639   -74.7964   \n",
              "5       speedtest.dgnet.com.br  298.681132  -28.6275   -53.0897   \n",
              "6             www.almix.com.br  306.302534  -25.3953   -51.4581   \n",
              "7      speedtest.panservice.it  233.362655   41.4661    12.9043   \n",
              "8          speedtest.vifnet.pl  263.219094   49.6837    21.4607   \n",
              "9     speedtest.cybernet.co.tz  385.121167   -3.3667    36.6833   \n",
              "\n",
              "                 Region             IP  \n",
              "0                Moskva   213.221.25.2  \n",
              "1               Georgia  45.79.222.138  \n",
              "2              Illinois  23.160.192.16  \n",
              "3  Mariy El, Respublika            NaN  \n",
              "4             Atlantico            NaN  \n",
              "5     Rio Grande do Sul            NaN  \n",
              "6                Parana            NaN  \n",
              "7                 Lazio   212.66.97.26  \n",
              "8          Podkarpackie            NaN  \n",
              "9                Arusha            NaN  "
            ],
            "text/html": [
              "\n",
              "  <div id=\"df-930fc451-fb07-42d1-aea6-37e8e89e202d\">\n",
              "    <div class=\"colab-df-container\">\n",
              "      <div>\n",
              "<style scoped>\n",
              "    .dataframe tbody tr th:only-of-type {\n",
              "        vertical-align: middle;\n",
              "    }\n",
              "\n",
              "    .dataframe tbody tr th {\n",
              "        vertical-align: top;\n",
              "    }\n",
              "\n",
              "    .dataframe thead th {\n",
              "        text-align: right;\n",
              "    }\n",
              "</style>\n",
              "<table border=\"1\" class=\"dataframe\">\n",
              "  <thead>\n",
              "    <tr style=\"text-align: right;\">\n",
              "      <th></th>\n",
              "      <th>Country</th>\n",
              "      <th>City</th>\n",
              "      <th>Continent</th>\n",
              "      <th>Provider</th>\n",
              "      <th>Host</th>\n",
              "      <th>Ping</th>\n",
              "      <th>Latitude</th>\n",
              "      <th>Longitude</th>\n",
              "      <th>Region</th>\n",
              "      <th>IP</th>\n",
              "    </tr>\n",
              "  </thead>\n",
              "  <tbody>\n",
              "    <tr>\n",
              "      <th>0</th>\n",
              "      <td>Russia</td>\n",
              "      <td>Moscow</td>\n",
              "      <td>Europe</td>\n",
              "      <td>Beeline</td>\n",
              "      <td>msk-speedtest2.corbina.net</td>\n",
              "      <td>223.802867</td>\n",
              "      <td>55.7522</td>\n",
              "      <td>37.6156</td>\n",
              "      <td>Moskva</td>\n",
              "      <td>213.221.25.2</td>\n",
              "    </tr>\n",
              "    <tr>\n",
              "      <th>1</th>\n",
              "      <td>United States</td>\n",
              "      <td>Atlanta</td>\n",
              "      <td>North America</td>\n",
              "      <td>Newworld CATV</td>\n",
              "      <td>test1.newworldcatv.ph</td>\n",
              "      <td>188.460067</td>\n",
              "      <td>33.7490</td>\n",
              "      <td>-84.3880</td>\n",
              "      <td>Georgia</td>\n",
              "      <td>45.79.222.138</td>\n",
              "    </tr>\n",
              "    <tr>\n",
              "      <th>2</th>\n",
              "      <td>United States</td>\n",
              "      <td>Schaumburg</td>\n",
              "      <td>North America</td>\n",
              "      <td>XenSpec</td>\n",
              "      <td>sp.netinformatik.com</td>\n",
              "      <td>182.235651</td>\n",
              "      <td>42.0142</td>\n",
              "      <td>-88.0932</td>\n",
              "      <td>Illinois</td>\n",
              "      <td>23.160.192.16</td>\n",
              "    </tr>\n",
              "    <tr>\n",
              "      <th>3</th>\n",
              "      <td>Russia</td>\n",
              "      <td>Yoshkar-Ola</td>\n",
              "      <td>Europe</td>\n",
              "      <td>DOM.RU</td>\n",
              "      <td>speedtest.yola.ertelecom.ru</td>\n",
              "      <td>295.499843</td>\n",
              "      <td>56.6388</td>\n",
              "      <td>47.8908</td>\n",
              "      <td>Mariy El, Respublika</td>\n",
              "      <td>NaN</td>\n",
              "    </tr>\n",
              "    <tr>\n",
              "      <th>4</th>\n",
              "      <td>Colombia</td>\n",
              "      <td>Barranquilla</td>\n",
              "      <td>South America</td>\n",
              "      <td>TigoUne</td>\n",
              "      <td>speedtestbaq1.tigo.com.co</td>\n",
              "      <td>234.448352</td>\n",
              "      <td>10.9639</td>\n",
              "      <td>-74.7964</td>\n",
              "      <td>Atlantico</td>\n",
              "      <td>NaN</td>\n",
              "    </tr>\n",
              "    <tr>\n",
              "      <th>5</th>\n",
              "      <td>Brazil</td>\n",
              "      <td>Ibiruba</td>\n",
              "      <td>South America</td>\n",
              "      <td>DGNet</td>\n",
              "      <td>speedtest.dgnet.com.br</td>\n",
              "      <td>298.681132</td>\n",
              "      <td>-28.6275</td>\n",
              "      <td>-53.0897</td>\n",
              "      <td>Rio Grande do Sul</td>\n",
              "      <td>NaN</td>\n",
              "    </tr>\n",
              "    <tr>\n",
              "      <th>6</th>\n",
              "      <td>Brazil</td>\n",
              "      <td>Guarapuava</td>\n",
              "      <td>South America</td>\n",
              "      <td>Almix Internet</td>\n",
              "      <td>www.almix.com.br</td>\n",
              "      <td>306.302534</td>\n",
              "      <td>-25.3953</td>\n",
              "      <td>-51.4581</td>\n",
              "      <td>Parana</td>\n",
              "      <td>NaN</td>\n",
              "    </tr>\n",
              "    <tr>\n",
              "      <th>7</th>\n",
              "      <td>Italy</td>\n",
              "      <td>Latina</td>\n",
              "      <td>Europe</td>\n",
              "      <td>Panservice</td>\n",
              "      <td>speedtest.panservice.it</td>\n",
              "      <td>233.362655</td>\n",
              "      <td>41.4661</td>\n",
              "      <td>12.9043</td>\n",
              "      <td>Lazio</td>\n",
              "      <td>212.66.97.26</td>\n",
              "    </tr>\n",
              "    <tr>\n",
              "      <th>8</th>\n",
              "      <td>Poland</td>\n",
              "      <td>Debowiec</td>\n",
              "      <td>Europe</td>\n",
              "      <td>FHU Vifnet</td>\n",
              "      <td>speedtest.vifnet.pl</td>\n",
              "      <td>263.219094</td>\n",
              "      <td>49.6837</td>\n",
              "      <td>21.4607</td>\n",
              "      <td>Podkarpackie</td>\n",
              "      <td>NaN</td>\n",
              "    </tr>\n",
              "    <tr>\n",
              "      <th>9</th>\n",
              "      <td>Tanzania</td>\n",
              "      <td>Arusha</td>\n",
              "      <td>Africa</td>\n",
              "      <td>Arusha Art Ltd</td>\n",
              "      <td>speedtest.cybernet.co.tz</td>\n",
              "      <td>385.121167</td>\n",
              "      <td>-3.3667</td>\n",
              "      <td>36.6833</td>\n",
              "      <td>Arusha</td>\n",
              "      <td>NaN</td>\n",
              "    </tr>\n",
              "  </tbody>\n",
              "</table>\n",
              "</div>\n",
              "      <button class=\"colab-df-convert\" onclick=\"convertToInteractive('df-930fc451-fb07-42d1-aea6-37e8e89e202d')\"\n",
              "              title=\"Convert this dataframe to an interactive table.\"\n",
              "              style=\"display:none;\">\n",
              "        \n",
              "  <svg xmlns=\"http://www.w3.org/2000/svg\" height=\"24px\"viewBox=\"0 0 24 24\"\n",
              "       width=\"24px\">\n",
              "    <path d=\"M0 0h24v24H0V0z\" fill=\"none\"/>\n",
              "    <path d=\"M18.56 5.44l.94 2.06.94-2.06 2.06-.94-2.06-.94-.94-2.06-.94 2.06-2.06.94zm-11 1L8.5 8.5l.94-2.06 2.06-.94-2.06-.94L8.5 2.5l-.94 2.06-2.06.94zm10 10l.94 2.06.94-2.06 2.06-.94-2.06-.94-.94-2.06-.94 2.06-2.06.94z\"/><path d=\"M17.41 7.96l-1.37-1.37c-.4-.4-.92-.59-1.43-.59-.52 0-1.04.2-1.43.59L10.3 9.45l-7.72 7.72c-.78.78-.78 2.05 0 2.83L4 21.41c.39.39.9.59 1.41.59.51 0 1.02-.2 1.41-.59l7.78-7.78 2.81-2.81c.8-.78.8-2.07 0-2.86zM5.41 20L4 18.59l7.72-7.72 1.47 1.35L5.41 20z\"/>\n",
              "  </svg>\n",
              "      </button>\n",
              "      \n",
              "  <style>\n",
              "    .colab-df-container {\n",
              "      display:flex;\n",
              "      flex-wrap:wrap;\n",
              "      gap: 12px;\n",
              "    }\n",
              "\n",
              "    .colab-df-convert {\n",
              "      background-color: #E8F0FE;\n",
              "      border: none;\n",
              "      border-radius: 50%;\n",
              "      cursor: pointer;\n",
              "      display: none;\n",
              "      fill: #1967D2;\n",
              "      height: 32px;\n",
              "      padding: 0 0 0 0;\n",
              "      width: 32px;\n",
              "    }\n",
              "\n",
              "    .colab-df-convert:hover {\n",
              "      background-color: #E2EBFA;\n",
              "      box-shadow: 0px 1px 2px rgba(60, 64, 67, 0.3), 0px 1px 3px 1px rgba(60, 64, 67, 0.15);\n",
              "      fill: #174EA6;\n",
              "    }\n",
              "\n",
              "    [theme=dark] .colab-df-convert {\n",
              "      background-color: #3B4455;\n",
              "      fill: #D2E3FC;\n",
              "    }\n",
              "\n",
              "    [theme=dark] .colab-df-convert:hover {\n",
              "      background-color: #434B5C;\n",
              "      box-shadow: 0px 1px 3px 1px rgba(0, 0, 0, 0.15);\n",
              "      filter: drop-shadow(0px 1px 2px rgba(0, 0, 0, 0.3));\n",
              "      fill: #FFFFFF;\n",
              "    }\n",
              "  </style>\n",
              "\n",
              "      <script>\n",
              "        const buttonEl =\n",
              "          document.querySelector('#df-930fc451-fb07-42d1-aea6-37e8e89e202d button.colab-df-convert');\n",
              "        buttonEl.style.display =\n",
              "          google.colab.kernel.accessAllowed ? 'block' : 'none';\n",
              "\n",
              "        async function convertToInteractive(key) {\n",
              "          const element = document.querySelector('#df-930fc451-fb07-42d1-aea6-37e8e89e202d');\n",
              "          const dataTable =\n",
              "            await google.colab.kernel.invokeFunction('convertToInteractive',\n",
              "                                                     [key], {});\n",
              "          if (!dataTable) return;\n",
              "\n",
              "          const docLinkHtml = 'Like what you see? Visit the ' +\n",
              "            '<a target=\"_blank\" href=https://colab.research.google.com/notebooks/data_table.ipynb>data table notebook</a>'\n",
              "            + ' to learn more about interactive tables.';\n",
              "          element.innerHTML = '';\n",
              "          dataTable['output_type'] = 'display_data';\n",
              "          await google.colab.output.renderOutput(dataTable, element);\n",
              "          const docLink = document.createElement('div');\n",
              "          docLink.innerHTML = docLinkHtml;\n",
              "          element.appendChild(docLink);\n",
              "        }\n",
              "      </script>\n",
              "    </div>\n",
              "  </div>\n",
              "  "
            ]
          },
          "metadata": {},
          "execution_count": 6
        }
      ]
    },
    {
      "cell_type": "markdown",
      "source": [
        "Before jumping into any text it's important to identify the current server ip and location. "
      ],
      "metadata": {
        "id": "NDIXiYlB3PNh"
      }
    },
    {
      "cell_type": "code",
      "source": [
        "# DONT RUN THIS CELL\n",
        "!curl ipecho.net/plain"
      ],
      "metadata": {
        "colab": {
          "base_uri": "https://localhost:8080/"
        },
        "id": "4OOZY4JD3f-J",
        "outputId": "e6f498ce-c689-4d9b-e0c8-260237301fe3"
      },
      "execution_count": null,
      "outputs": [
        {
          "output_type": "stream",
          "name": "stdout",
          "text": [
            "34.125.33.12"
          ]
        }
      ]
    },
    {
      "cell_type": "markdown",
      "source": [
        "By looking at the IP adress of our machine ```34.125.107.71``` we notice the server is located in Las Vegas, Nevada, United States."
      ],
      "metadata": {
        "id": "3CWF-vym3q0-"
      }
    },
    {
      "cell_type": "code",
      "source": [
        "# RUN THIS CELL\n",
        "source_dict = {\n",
        "    \"IP\": \"34.125.33.12\",\n",
        "    \"latitude\": 36.1750,\n",
        "    \"longitude\": -115.1372,\n",
        "    \"continent\": \"NA\",\n",
        "    \"region\": \"Nevada\",\n",
        "    \"city\": \"Las Vegas\",\n",
        "    \"country\": \"United States\"\n",
        "}"
      ],
      "metadata": {
        "id": "VDSPLO6P4F-h"
      },
      "execution_count": null,
      "outputs": []
    },
    {
      "cell_type": "markdown",
      "source": [
        "With the provided data we can move to the pinging phase and try to populate the ping value in our dataset. "
      ],
      "metadata": {
        "id": "eHblSzcn4mHE"
      }
    },
    {
      "cell_type": "code",
      "source": [
        "# DON'T RUN THIS CELL FOR TESTING \n",
        "# read the data from already populated pings\n",
        "\n",
        "# Iterating through the rows\n",
        "for index, row in df.iterrows():\n",
        "    # Sometimes server is not reachable or not in the DNS\n",
        "    # So it's a good practice to catch the error.\n",
        "    try:\n",
        "      resp = ping(row[\"Host\"], count=1)\n",
        "    except:\n",
        "      continue\n",
        "\n",
        "    # If the ping is successful overwrite the ping value \n",
        "    if resp.success:\n",
        "        df.loc[index, 'Ping'] = resp.rtt_avg * 1000\n",
        "\n",
        "\n",
        "# Writing to a csv to not ping every time \n",
        "df.to_csv(f\"{source_dict.get('IP')}-slice.csv\", index=False)"
      ],
      "metadata": {
        "id": "9vkZ_FhR1dV3"
      },
      "execution_count": null,
      "outputs": []
    },
    {
      "cell_type": "markdown",
      "source": [
        "Since We don't want to go through the pinging again we will just use a saved CSV file from the previous sessions. "
      ],
      "metadata": {
        "id": "nkX3hcam61V-"
      }
    },
    {
      "cell_type": "code",
      "source": [
        "# Just run the source_dict cell before this\n",
        "# RUN THIS CELL\n",
        "df = pd.read_csv(f\"{source_dict.get('IP')}-slice.csv\")\n",
        "\n",
        "df.head(10)"
      ],
      "metadata": {
        "id": "S6x_QZcjbf9P",
        "colab": {
          "base_uri": "https://localhost:8080/",
          "height": 363
        },
        "outputId": "71a37724-687b-4890-ea72-82512352c4b4"
      },
      "execution_count": 38,
      "outputs": [
        {
          "output_type": "execute_result",
          "data": {
            "text/plain": [
              "         Country          City      Continent        Provider  \\\n",
              "0         Russia        Moscow         Europe         Beeline   \n",
              "1  United States       Atlanta  North America   Newworld CATV   \n",
              "2  United States    Schaumburg  North America         XenSpec   \n",
              "3         Russia   Yoshkar-Ola         Europe          DOM.RU   \n",
              "4       Colombia  Barranquilla  South America         TigoUne   \n",
              "5         Brazil       Ibiruba  South America           DGNet   \n",
              "6         Brazil    Guarapuava  South America  Almix Internet   \n",
              "7          Italy        Latina         Europe      Panservice   \n",
              "8         Poland      Debowiec         Europe      FHU Vifnet   \n",
              "9       Tanzania        Arusha         Africa  Arusha Art Ltd   \n",
              "\n",
              "                          Host        Ping  Latitude  Longitude  \\\n",
              "0   msk-speedtest2.corbina.net  175.995812   55.7522    37.6156   \n",
              "1        test1.newworldcatv.ph   49.387180   33.7490   -84.3880   \n",
              "2         sp.netinformatik.com   69.728184   42.0142   -88.0932   \n",
              "3  speedtest.yola.ertelecom.ru  181.908539   56.6388    47.8908   \n",
              "4    speedtestbaq1.tigo.com.co  102.960863   10.9639   -74.7964   \n",
              "5       speedtest.dgnet.com.br  177.754893  -28.6275   -53.0897   \n",
              "6             www.almix.com.br  193.811907  -25.3953   -51.4581   \n",
              "7      speedtest.panservice.it  163.251827   41.4661    12.9043   \n",
              "8          speedtest.vifnet.pl  170.895227   49.6837    21.4607   \n",
              "9     speedtest.cybernet.co.tz  283.225138   -3.3667    36.6833   \n",
              "\n",
              "                 Region             IP  \n",
              "0                Moskva   213.221.25.2  \n",
              "1               Georgia  45.79.222.138  \n",
              "2              Illinois  23.160.192.16  \n",
              "3  Mariy El, Respublika            NaN  \n",
              "4             Atlantico            NaN  \n",
              "5     Rio Grande do Sul            NaN  \n",
              "6                Parana            NaN  \n",
              "7                 Lazio   212.66.97.26  \n",
              "8          Podkarpackie            NaN  \n",
              "9                Arusha            NaN  "
            ],
            "text/html": [
              "\n",
              "  <div id=\"df-c1b56974-0b76-4638-a0e5-d23288f1f7ad\">\n",
              "    <div class=\"colab-df-container\">\n",
              "      <div>\n",
              "<style scoped>\n",
              "    .dataframe tbody tr th:only-of-type {\n",
              "        vertical-align: middle;\n",
              "    }\n",
              "\n",
              "    .dataframe tbody tr th {\n",
              "        vertical-align: top;\n",
              "    }\n",
              "\n",
              "    .dataframe thead th {\n",
              "        text-align: right;\n",
              "    }\n",
              "</style>\n",
              "<table border=\"1\" class=\"dataframe\">\n",
              "  <thead>\n",
              "    <tr style=\"text-align: right;\">\n",
              "      <th></th>\n",
              "      <th>Country</th>\n",
              "      <th>City</th>\n",
              "      <th>Continent</th>\n",
              "      <th>Provider</th>\n",
              "      <th>Host</th>\n",
              "      <th>Ping</th>\n",
              "      <th>Latitude</th>\n",
              "      <th>Longitude</th>\n",
              "      <th>Region</th>\n",
              "      <th>IP</th>\n",
              "    </tr>\n",
              "  </thead>\n",
              "  <tbody>\n",
              "    <tr>\n",
              "      <th>0</th>\n",
              "      <td>Russia</td>\n",
              "      <td>Moscow</td>\n",
              "      <td>Europe</td>\n",
              "      <td>Beeline</td>\n",
              "      <td>msk-speedtest2.corbina.net</td>\n",
              "      <td>175.995812</td>\n",
              "      <td>55.7522</td>\n",
              "      <td>37.6156</td>\n",
              "      <td>Moskva</td>\n",
              "      <td>213.221.25.2</td>\n",
              "    </tr>\n",
              "    <tr>\n",
              "      <th>1</th>\n",
              "      <td>United States</td>\n",
              "      <td>Atlanta</td>\n",
              "      <td>North America</td>\n",
              "      <td>Newworld CATV</td>\n",
              "      <td>test1.newworldcatv.ph</td>\n",
              "      <td>49.387180</td>\n",
              "      <td>33.7490</td>\n",
              "      <td>-84.3880</td>\n",
              "      <td>Georgia</td>\n",
              "      <td>45.79.222.138</td>\n",
              "    </tr>\n",
              "    <tr>\n",
              "      <th>2</th>\n",
              "      <td>United States</td>\n",
              "      <td>Schaumburg</td>\n",
              "      <td>North America</td>\n",
              "      <td>XenSpec</td>\n",
              "      <td>sp.netinformatik.com</td>\n",
              "      <td>69.728184</td>\n",
              "      <td>42.0142</td>\n",
              "      <td>-88.0932</td>\n",
              "      <td>Illinois</td>\n",
              "      <td>23.160.192.16</td>\n",
              "    </tr>\n",
              "    <tr>\n",
              "      <th>3</th>\n",
              "      <td>Russia</td>\n",
              "      <td>Yoshkar-Ola</td>\n",
              "      <td>Europe</td>\n",
              "      <td>DOM.RU</td>\n",
              "      <td>speedtest.yola.ertelecom.ru</td>\n",
              "      <td>181.908539</td>\n",
              "      <td>56.6388</td>\n",
              "      <td>47.8908</td>\n",
              "      <td>Mariy El, Respublika</td>\n",
              "      <td>NaN</td>\n",
              "    </tr>\n",
              "    <tr>\n",
              "      <th>4</th>\n",
              "      <td>Colombia</td>\n",
              "      <td>Barranquilla</td>\n",
              "      <td>South America</td>\n",
              "      <td>TigoUne</td>\n",
              "      <td>speedtestbaq1.tigo.com.co</td>\n",
              "      <td>102.960863</td>\n",
              "      <td>10.9639</td>\n",
              "      <td>-74.7964</td>\n",
              "      <td>Atlantico</td>\n",
              "      <td>NaN</td>\n",
              "    </tr>\n",
              "    <tr>\n",
              "      <th>5</th>\n",
              "      <td>Brazil</td>\n",
              "      <td>Ibiruba</td>\n",
              "      <td>South America</td>\n",
              "      <td>DGNet</td>\n",
              "      <td>speedtest.dgnet.com.br</td>\n",
              "      <td>177.754893</td>\n",
              "      <td>-28.6275</td>\n",
              "      <td>-53.0897</td>\n",
              "      <td>Rio Grande do Sul</td>\n",
              "      <td>NaN</td>\n",
              "    </tr>\n",
              "    <tr>\n",
              "      <th>6</th>\n",
              "      <td>Brazil</td>\n",
              "      <td>Guarapuava</td>\n",
              "      <td>South America</td>\n",
              "      <td>Almix Internet</td>\n",
              "      <td>www.almix.com.br</td>\n",
              "      <td>193.811907</td>\n",
              "      <td>-25.3953</td>\n",
              "      <td>-51.4581</td>\n",
              "      <td>Parana</td>\n",
              "      <td>NaN</td>\n",
              "    </tr>\n",
              "    <tr>\n",
              "      <th>7</th>\n",
              "      <td>Italy</td>\n",
              "      <td>Latina</td>\n",
              "      <td>Europe</td>\n",
              "      <td>Panservice</td>\n",
              "      <td>speedtest.panservice.it</td>\n",
              "      <td>163.251827</td>\n",
              "      <td>41.4661</td>\n",
              "      <td>12.9043</td>\n",
              "      <td>Lazio</td>\n",
              "      <td>212.66.97.26</td>\n",
              "    </tr>\n",
              "    <tr>\n",
              "      <th>8</th>\n",
              "      <td>Poland</td>\n",
              "      <td>Debowiec</td>\n",
              "      <td>Europe</td>\n",
              "      <td>FHU Vifnet</td>\n",
              "      <td>speedtest.vifnet.pl</td>\n",
              "      <td>170.895227</td>\n",
              "      <td>49.6837</td>\n",
              "      <td>21.4607</td>\n",
              "      <td>Podkarpackie</td>\n",
              "      <td>NaN</td>\n",
              "    </tr>\n",
              "    <tr>\n",
              "      <th>9</th>\n",
              "      <td>Tanzania</td>\n",
              "      <td>Arusha</td>\n",
              "      <td>Africa</td>\n",
              "      <td>Arusha Art Ltd</td>\n",
              "      <td>speedtest.cybernet.co.tz</td>\n",
              "      <td>283.225138</td>\n",
              "      <td>-3.3667</td>\n",
              "      <td>36.6833</td>\n",
              "      <td>Arusha</td>\n",
              "      <td>NaN</td>\n",
              "    </tr>\n",
              "  </tbody>\n",
              "</table>\n",
              "</div>\n",
              "      <button class=\"colab-df-convert\" onclick=\"convertToInteractive('df-c1b56974-0b76-4638-a0e5-d23288f1f7ad')\"\n",
              "              title=\"Convert this dataframe to an interactive table.\"\n",
              "              style=\"display:none;\">\n",
              "        \n",
              "  <svg xmlns=\"http://www.w3.org/2000/svg\" height=\"24px\"viewBox=\"0 0 24 24\"\n",
              "       width=\"24px\">\n",
              "    <path d=\"M0 0h24v24H0V0z\" fill=\"none\"/>\n",
              "    <path d=\"M18.56 5.44l.94 2.06.94-2.06 2.06-.94-2.06-.94-.94-2.06-.94 2.06-2.06.94zm-11 1L8.5 8.5l.94-2.06 2.06-.94-2.06-.94L8.5 2.5l-.94 2.06-2.06.94zm10 10l.94 2.06.94-2.06 2.06-.94-2.06-.94-.94-2.06-.94 2.06-2.06.94z\"/><path d=\"M17.41 7.96l-1.37-1.37c-.4-.4-.92-.59-1.43-.59-.52 0-1.04.2-1.43.59L10.3 9.45l-7.72 7.72c-.78.78-.78 2.05 0 2.83L4 21.41c.39.39.9.59 1.41.59.51 0 1.02-.2 1.41-.59l7.78-7.78 2.81-2.81c.8-.78.8-2.07 0-2.86zM5.41 20L4 18.59l7.72-7.72 1.47 1.35L5.41 20z\"/>\n",
              "  </svg>\n",
              "      </button>\n",
              "      \n",
              "  <style>\n",
              "    .colab-df-container {\n",
              "      display:flex;\n",
              "      flex-wrap:wrap;\n",
              "      gap: 12px;\n",
              "    }\n",
              "\n",
              "    .colab-df-convert {\n",
              "      background-color: #E8F0FE;\n",
              "      border: none;\n",
              "      border-radius: 50%;\n",
              "      cursor: pointer;\n",
              "      display: none;\n",
              "      fill: #1967D2;\n",
              "      height: 32px;\n",
              "      padding: 0 0 0 0;\n",
              "      width: 32px;\n",
              "    }\n",
              "\n",
              "    .colab-df-convert:hover {\n",
              "      background-color: #E2EBFA;\n",
              "      box-shadow: 0px 1px 2px rgba(60, 64, 67, 0.3), 0px 1px 3px 1px rgba(60, 64, 67, 0.15);\n",
              "      fill: #174EA6;\n",
              "    }\n",
              "\n",
              "    [theme=dark] .colab-df-convert {\n",
              "      background-color: #3B4455;\n",
              "      fill: #D2E3FC;\n",
              "    }\n",
              "\n",
              "    [theme=dark] .colab-df-convert:hover {\n",
              "      background-color: #434B5C;\n",
              "      box-shadow: 0px 1px 3px 1px rgba(0, 0, 0, 0.15);\n",
              "      filter: drop-shadow(0px 1px 2px rgba(0, 0, 0, 0.3));\n",
              "      fill: #FFFFFF;\n",
              "    }\n",
              "  </style>\n",
              "\n",
              "      <script>\n",
              "        const buttonEl =\n",
              "          document.querySelector('#df-c1b56974-0b76-4638-a0e5-d23288f1f7ad button.colab-df-convert');\n",
              "        buttonEl.style.display =\n",
              "          google.colab.kernel.accessAllowed ? 'block' : 'none';\n",
              "\n",
              "        async function convertToInteractive(key) {\n",
              "          const element = document.querySelector('#df-c1b56974-0b76-4638-a0e5-d23288f1f7ad');\n",
              "          const dataTable =\n",
              "            await google.colab.kernel.invokeFunction('convertToInteractive',\n",
              "                                                     [key], {});\n",
              "          if (!dataTable) return;\n",
              "\n",
              "          const docLinkHtml = 'Like what you see? Visit the ' +\n",
              "            '<a target=\"_blank\" href=https://colab.research.google.com/notebooks/data_table.ipynb>data table notebook</a>'\n",
              "            + ' to learn more about interactive tables.';\n",
              "          element.innerHTML = '';\n",
              "          dataTable['output_type'] = 'display_data';\n",
              "          await google.colab.output.renderOutput(dataTable, element);\n",
              "          const docLink = document.createElement('div');\n",
              "          docLink.innerHTML = docLinkHtml;\n",
              "          element.appendChild(docLink);\n",
              "        }\n",
              "      </script>\n",
              "    </div>\n",
              "  </div>\n",
              "  "
            ]
          },
          "metadata": {},
          "execution_count": 38
        }
      ]
    },
    {
      "cell_type": "markdown",
      "source": [
        "## Analyze the RTT Data According to the Distance\n",
        "\n",
        "Now we move the data part and try to analyze it. It is always a good idea to now the dataset that we are working on so we first go through the EDA and see if there's any meaningful data in our dataset."
      ],
      "metadata": {
        "id": "vbrU6kDO7Xoy"
      }
    },
    {
      "cell_type": "markdown",
      "source": [
        "Let's discover the distribution of our servers by their continents. "
      ],
      "metadata": {
        "id": "19TSCcQF7k-g"
      }
    },
    {
      "cell_type": "code",
      "source": [
        "# Geting the value counts of 'Continent' column\n",
        "cn_count = df[\"Continent\"].value_counts()\n",
        "\n",
        "# plot distribution count as a bar chart\n",
        "cn_count.plot(kind=\"bar\")\n",
        "\n",
        "# add labels and title\n",
        "plt.xlabel(\"Continent\")\n",
        "plt.ylabel(\"Count\")\n",
        "plt.title(\"Distribution of Server Continents\")\n",
        "\n",
        "# display plot\n",
        "plt.show()"
      ],
      "metadata": {
        "id": "Leap_Aac7c4P",
        "colab": {
          "base_uri": "https://localhost:8080/",
          "height": 359
        },
        "outputId": "288dc1df-9e42-47e1-e22b-62e68c3787fd"
      },
      "execution_count": 39,
      "outputs": [
        {
          "output_type": "display_data",
          "data": {
            "text/plain": [
              "<Figure size 432x288 with 1 Axes>"
            ],
            "image/png": "[encoded data removed]"
          },
          "metadata": {
            "needs_background": "light"
          }
        }
      ]
    },
    {
      "cell_type": "markdown",
      "source": [
        "As we observer in the distribution of our servers we have a really realistic number of servers that suits the internet users of each continent. Therefore we can start working on our data. "
      ],
      "metadata": {
        "id": "qQCtKV-cXuHN"
      }
    },
    {
      "cell_type": "markdown",
      "source": [
        "### Assumptions \n",
        "\n",
        "Before diving into the calculations let's review the factors that can affect the RTT and how are we tackling them.\n",
        "\n",
        "1. **Distance**: The distance between the sender and receiver affects the RTT, as the packet has to travel a longer distance. \n",
        "To measure the distance between two geo points, we will use the Haversine formula. The Haversine formula calculates the great-circle distance between two points on a sphere (like the Earth) given their longitudes and latitudes. We will discuss the drawbacks and inaccuracies of this method.\n",
        "\n",
        "2. **Network congestion**: Network congestion can cause delays in the delivery of packets, resulting in an increase in the RTT. \n",
        "To tackle this problem we have tested the pings in different times and multiple time and put the mean RTT for comparison.\n",
        "\n",
        "3. **Bandwidth**: The available bandwidth on the network affects the RTT, as the transmission of packets can be slowed down if the network bandwidth is not sufficient. By using the colab and google network we assume that Bandwidth is enough for us.\n",
        "\n",
        "4. **Quality of Service (QoS)**: The QoS settings on the network can affect the RTT, as packets may be given priority or delayed based on their QoS classification. Since we are using the google colab service for testing we just hope that the QoS is working in our favour and even if it does not, we probably know that it will affect all of our ping requests in the same way.\n",
        "\n",
        "5. **Packet size**: Larger packets can take longer to transmit and receive, resulting in an increase in the RTT. Since we used ICMP requests packets are small and this factor will not be a problem.\n",
        "\n",
        "6. **Router and network device processing times**: Routers and network devices have to process the packets as they pass through them, and this can introduce additional delay in the delivery of packets.\n",
        "This can affect us, the higher the amount of routers between us and the destination, the higher the RTT.\n",
        "\n",
        "7. **Network topology**: The way the network is structured can affect the RTT, as the path that packets take can be longer or more complex in some network topologies. Since we are not choosing the path that we are traversing through we might end up going from a path which is not optimal or short, we will explore this problem at the end.\n"
      ],
      "metadata": {
        "id": "KUxg95MxYI-_"
      }
    },
    {
      "cell_type": "markdown",
      "source": [
        "### Calculating the Distance\n",
        "In order to calculate the distance we will use the Haversine formula. The Haversine formula calculates the great-circle distance between two points on a sphere (like the Earth) given their longitudes and latitudes. We will use ```geopy.distance.distance()``` function, which uses the Haversine formula, to calculate this distance and add them to the dataframe. "
      ],
      "metadata": {
        "id": "sf0JRCEnagjv"
      }
    },
    {
      "cell_type": "code",
      "source": [
        "from geopy.distance import distance\n",
        "\n",
        "# Adding a distance colomn to the df\n",
        "df[\"Distance\"] = df.apply(\n",
        "    lambda row: distance(\n",
        "        (source_dict.get(\"latitude\"), source_dict.get(\"longitude\")), \n",
        "        (row[\"Latitude\"], row[\"Longitude\"])\n",
        "        ).km, \n",
        "        axis=1\n",
        "    )\n",
        "\n"
      ],
      "metadata": {
        "id": "eM0magQ0Vsdv"
      },
      "execution_count": 40,
      "outputs": []
    },
    {
      "cell_type": "code",
      "source": [
        "# To Look at the final Dataframe\n",
        "df.describe()"
      ],
      "metadata": {
        "colab": {
          "base_uri": "https://localhost:8080/",
          "height": 300
        },
        "id": "Vw6CC5Y7dbMb",
        "outputId": "7ba03c04-a45d-4baa-9054-69aa85f9735b"
      },
      "execution_count": 41,
      "outputs": [
        {
          "output_type": "execute_result",
          "data": {
            "text/plain": [
              "              Ping    Latitude   Longitude      Distance\n",
              "count   149.000000  149.000000  149.000000    149.000000\n",
              "mean    173.049964   22.360773    2.671510   8904.528914\n",
              "std     164.775197   30.717311   72.748108   4039.438650\n",
              "min      13.970000  -37.831800 -124.163700      3.263915\n",
              "25%     147.952369   -6.208700  -53.089700   8471.541095\n",
              "50%     170.895227   34.404800   11.806000   9495.549820\n",
              "75%     194.791456   48.843800   44.629400  11211.295853\n",
              "max    2000.000000   68.564600  153.430900  16666.312984"
            ],
            "text/html": [
              "\n",
              "  <div id=\"df-a724ebbd-48d5-4578-8cef-bac0fc44e491\">\n",
              "    <div class=\"colab-df-container\">\n",
              "      <div>\n",
              "<style scoped>\n",
              "    .dataframe tbody tr th:only-of-type {\n",
              "        vertical-align: middle;\n",
              "    }\n",
              "\n",
              "    .dataframe tbody tr th {\n",
              "        vertical-align: top;\n",
              "    }\n",
              "\n",
              "    .dataframe thead th {\n",
              "        text-align: right;\n",
              "    }\n",
              "</style>\n",
              "<table border=\"1\" class=\"dataframe\">\n",
              "  <thead>\n",
              "    <tr style=\"text-align: right;\">\n",
              "      <th></th>\n",
              "      <th>Ping</th>\n",
              "      <th>Latitude</th>\n",
              "      <th>Longitude</th>\n",
              "      <th>Distance</th>\n",
              "    </tr>\n",
              "  </thead>\n",
              "  <tbody>\n",
              "    <tr>\n",
              "      <th>count</th>\n",
              "      <td>149.000000</td>\n",
              "      <td>149.000000</td>\n",
              "      <td>149.000000</td>\n",
              "      <td>149.000000</td>\n",
              "    </tr>\n",
              "    <tr>\n",
              "      <th>mean</th>\n",
              "      <td>173.049964</td>\n",
              "      <td>22.360773</td>\n",
              "      <td>2.671510</td>\n",
              "      <td>8904.528914</td>\n",
              "    </tr>\n",
              "    <tr>\n",
              "      <th>std</th>\n",
              "      <td>164.775197</td>\n",
              "      <td>30.717311</td>\n",
              "      <td>72.748108</td>\n",
              "      <td>4039.438650</td>\n",
              "    </tr>\n",
              "    <tr>\n",
              "      <th>min</th>\n",
              "      <td>13.970000</td>\n",
              "      <td>-37.831800</td>\n",
              "      <td>-124.163700</td>\n",
              "      <td>3.263915</td>\n",
              "    </tr>\n",
              "    <tr>\n",
              "      <th>25%</th>\n",
              "      <td>147.952369</td>\n",
              "      <td>-6.208700</td>\n",
              "      <td>-53.089700</td>\n",
              "      <td>8471.541095</td>\n",
              "    </tr>\n",
              "    <tr>\n",
              "      <th>50%</th>\n",
              "      <td>170.895227</td>\n",
              "      <td>34.404800</td>\n",
              "      <td>11.806000</td>\n",
              "      <td>9495.549820</td>\n",
              "    </tr>\n",
              "    <tr>\n",
              "      <th>75%</th>\n",
              "      <td>194.791456</td>\n",
              "      <td>48.843800</td>\n",
              "      <td>44.629400</td>\n",
              "      <td>11211.295853</td>\n",
              "    </tr>\n",
              "    <tr>\n",
              "      <th>max</th>\n",
              "      <td>2000.000000</td>\n",
              "      <td>68.564600</td>\n",
              "      <td>153.430900</td>\n",
              "      <td>16666.312984</td>\n",
              "    </tr>\n",
              "  </tbody>\n",
              "</table>\n",
              "</div>\n",
              "      <button class=\"colab-df-convert\" onclick=\"convertToInteractive('df-a724ebbd-48d5-4578-8cef-bac0fc44e491')\"\n",
              "              title=\"Convert this dataframe to an interactive table.\"\n",
              "              style=\"display:none;\">\n",
              "        \n",
              "  <svg xmlns=\"http://www.w3.org/2000/svg\" height=\"24px\"viewBox=\"0 0 24 24\"\n",
              "       width=\"24px\">\n",
              "    <path d=\"M0 0h24v24H0V0z\" fill=\"none\"/>\n",
              "    <path d=\"M18.56 5.44l.94 2.06.94-2.06 2.06-.94-2.06-.94-.94-2.06-.94 2.06-2.06.94zm-11 1L8.5 8.5l.94-2.06 2.06-.94-2.06-.94L8.5 2.5l-.94 2.06-2.06.94zm10 10l.94 2.06.94-2.06 2.06-.94-2.06-.94-.94-2.06-.94 2.06-2.06.94z\"/><path d=\"M17.41 7.96l-1.37-1.37c-.4-.4-.92-.59-1.43-.59-.52 0-1.04.2-1.43.59L10.3 9.45l-7.72 7.72c-.78.78-.78 2.05 0 2.83L4 21.41c.39.39.9.59 1.41.59.51 0 1.02-.2 1.41-.59l7.78-7.78 2.81-2.81c.8-.78.8-2.07 0-2.86zM5.41 20L4 18.59l7.72-7.72 1.47 1.35L5.41 20z\"/>\n",
              "  </svg>\n",
              "      </button>\n",
              "      \n",
              "  <style>\n",
              "    .colab-df-container {\n",
              "      display:flex;\n",
              "      flex-wrap:wrap;\n",
              "      gap: 12px;\n",
              "    }\n",
              "\n",
              "    .colab-df-convert {\n",
              "      background-color: #E8F0FE;\n",
              "      border: none;\n",
              "      border-radius: 50%;\n",
              "      cursor: pointer;\n",
              "      display: none;\n",
              "      fill: #1967D2;\n",
              "      height: 32px;\n",
              "      padding: 0 0 0 0;\n",
              "      width: 32px;\n",
              "    }\n",
              "\n",
              "    .colab-df-convert:hover {\n",
              "      background-color: #E2EBFA;\n",
              "      box-shadow: 0px 1px 2px rgba(60, 64, 67, 0.3), 0px 1px 3px 1px rgba(60, 64, 67, 0.15);\n",
              "      fill: #174EA6;\n",
              "    }\n",
              "\n",
              "    [theme=dark] .colab-df-convert {\n",
              "      background-color: #3B4455;\n",
              "      fill: #D2E3FC;\n",
              "    }\n",
              "\n",
              "    [theme=dark] .colab-df-convert:hover {\n",
              "      background-color: #434B5C;\n",
              "      box-shadow: 0px 1px 3px 1px rgba(0, 0, 0, 0.15);\n",
              "      filter: drop-shadow(0px 1px 2px rgba(0, 0, 0, 0.3));\n",
              "      fill: #FFFFFF;\n",
              "    }\n",
              "  </style>\n",
              "\n",
              "      <script>\n",
              "        const buttonEl =\n",
              "          document.querySelector('#df-a724ebbd-48d5-4578-8cef-bac0fc44e491 button.colab-df-convert');\n",
              "        buttonEl.style.display =\n",
              "          google.colab.kernel.accessAllowed ? 'block' : 'none';\n",
              "\n",
              "        async function convertToInteractive(key) {\n",
              "          const element = document.querySelector('#df-a724ebbd-48d5-4578-8cef-bac0fc44e491');\n",
              "          const dataTable =\n",
              "            await google.colab.kernel.invokeFunction('convertToInteractive',\n",
              "                                                     [key], {});\n",
              "          if (!dataTable) return;\n",
              "\n",
              "          const docLinkHtml = 'Like what you see? Visit the ' +\n",
              "            '<a target=\"_blank\" href=https://colab.research.google.com/notebooks/data_table.ipynb>data table notebook</a>'\n",
              "            + ' to learn more about interactive tables.';\n",
              "          element.innerHTML = '';\n",
              "          dataTable['output_type'] = 'display_data';\n",
              "          await google.colab.output.renderOutput(dataTable, element);\n",
              "          const docLink = document.createElement('div');\n",
              "          docLink.innerHTML = docLinkHtml;\n",
              "          element.appendChild(docLink);\n",
              "        }\n",
              "      </script>\n",
              "    </div>\n",
              "  </div>\n",
              "  "
            ]
          },
          "metadata": {},
          "execution_count": 41
        }
      ]
    },
    {
      "cell_type": "markdown",
      "source": [
        "By looking at the data we see that the minimum distance is 3kms which is a server in Las Vegas and the maximum is near 17000kms the mean is 8904kms, since our source is inside a kind of remote place in United States (Nevada) this distances are acceptable we can check the results from somewhere inisde the Europe later. this will reduce the numbers significantly. \n",
        "\n",
        "for the RTT time the mean is 173ms and min is around 14ms which is probably the server in Las Vegas and the maximum is 2000. 2000ms means the request was timeout so we need to clean those data from our dataset."
      ],
      "metadata": {
        "id": "PUs-IHtEhHTk"
      }
    },
    {
      "cell_type": "code",
      "source": [
        "# Filtering out the timeout requests\n",
        "df = df[df[\"Ping\"] != 2000]\n",
        "\n",
        "# Checking if there is any 2000 RTT remaining\n",
        "df[\"Ping\"].isin([2000]).any()"
      ],
      "metadata": {
        "colab": {
          "base_uri": "https://localhost:8080/"
        },
        "id": "IAwPlFY1eBlv",
        "outputId": "8555e912-a554-4e6e-c6f7-ff08c754e4d1"
      },
      "execution_count": 42,
      "outputs": [
        {
          "output_type": "execute_result",
          "data": {
            "text/plain": [
              "False"
            ]
          },
          "metadata": {},
          "execution_count": 42
        }
      ]
    },
    {
      "cell_type": "markdown",
      "source": [
        "### Plotting the RTT / Distance\n",
        "With the clean DF that we have we can plot now."
      ],
      "metadata": {
        "id": "kjzqfLHWjtyL"
      }
    },
    {
      "cell_type": "code",
      "source": [
        "# Using scatter plot to show the relationship between Distance/RTT\n",
        "plt.scatter(df[\"Distance\"], df[\"Ping\"])\n",
        "\n",
        "plt.xlabel(\"Distance\")\n",
        "plt.ylabel(\"RTT\")\n",
        "plt.title(\"Scatter plot of Distance and RTT\")\n",
        "\n",
        "\n",
        "plt.show()"
      ],
      "metadata": {
        "colab": {
          "base_uri": "https://localhost:8080/",
          "height": 295
        },
        "id": "JUKbrw8Heq-V",
        "outputId": "689b8495-9dad-464b-c324-a0384f4cefdd"
      },
      "execution_count": 21,
      "outputs": [
        {
          "output_type": "display_data",
          "data": {
            "text/plain": [
              "<Figure size 432x288 with 1 Axes>"
            ],
            "image/png": "[encoded data removed]"
          },
          "metadata": {
            "needs_background": "light"
          }
        }
      ]
    },
    {
      "cell_type": "markdown",
      "source": [
        "We can observe in our scatter plot that the relation between distance and RTT is linear. We know that the RTT is calculated with the formula of ```RTT = 2(L/C + d/v) + n``` the ```2(L/C)``` is the Propagation delay and the ```2(d/v)``` is the transmission delay and n is the variable that we add for other factors like network congestions and etc. Since the Packets travel in the very high speed (speed of light) the ```L/C``` time is very small and can be neglected, for example for 10000km distance, this propagation delay is around 0.033ms (since we are using electromagnetic waves). so the majority of our delay comes from the ```d/v``` and ```n```. ```d``` is the dataframe size and ```v``` is the speed of transmission. since the dataframe for all of our packets are the same (we are using ICMP). only thing remaining is tranmission speed, congestions, routing and router delays in between. We think that with higher distance this factors will have a higher penalty.  "
      ],
      "metadata": {
        "id": "Nk4wlW84l7io"
      }
    },
    {
      "cell_type": "markdown",
      "source": [
        "For better fitting the data we will use we can fit it in a linear function. For this case we will use ```np.polyfit``` which fits a polynomial function to a set of data points using least-squares regression. we use a degree of 1 since our problem is linear function."
      ],
      "metadata": {
        "id": "NIMB0L--qGMY"
      }
    },
    {
      "cell_type": "code",
      "source": [
        "# Calculate the coefficients of a linear regression model\n",
        "# y = mx + b\n",
        "m, b = np.polyfit(df[\"Distance\"], df[\"Ping\"], 1)\n",
        "\n",
        "# Create a function for the line of best fit\n",
        "best_fit_line = np.poly1d((m, b))\n",
        "\n",
        "# Creates the initial scatter plot\n",
        "plt.scatter(df[\"Distance\"], df[\"Ping\"])\n",
        "\n",
        "# Plot the line of best fit\n",
        "plt.plot(df[\"Distance\"], best_fit_line(df[\"Distance\"]), color='red')\n",
        "\n",
        "plt.xlabel(\"Distance\")\n",
        "plt.ylabel(\"RTT\")\n",
        "plt.title(\"Scatter plot and best fit line of Distance and RTT\")\n",
        "\n",
        "# show the plot\n",
        "plt.show()"
      ],
      "metadata": {
        "colab": {
          "base_uri": "https://localhost:8080/",
          "height": 295
        },
        "id": "9kQaY8p4l7L6",
        "outputId": "9986f657-7eda-483f-da5d-41aefcf58fe5"
      },
      "execution_count": 22,
      "outputs": [
        {
          "output_type": "display_data",
          "data": {
            "text/plain": [
              "<Figure size 432x288 with 1 Axes>"
            ],
            "image/png": "[encoded data removed]"
          },
          "metadata": {
            "needs_background": "light"
          }
        }
      ]
    },
    {
      "cell_type": "markdown",
      "source": [
        "We observe that our model fits pretty well inside the scatter plot. For measuring the accruacy we move to the next part."
      ],
      "metadata": {
        "id": "VYqJyldj2Awm"
      }
    },
    {
      "cell_type": "markdown",
      "source": [
        "## Testing the Linear Model\n",
        "\n",
        "For testing a polynomial regression model we will use a few metrics, in this case we will use MSE and R2. for this testing we will consider these two to see how accurately we can predict RTT with a given distance. We will also calculate MAE to have a better idea about actual error."
      ],
      "metadata": {
        "id": "cv13iIY22MRJ"
      }
    },
    {
      "cell_type": "code",
      "source": [
        "# Function For testing \n",
        "from sklearn.model_selection import train_test_split\n",
        "from sklearn.metrics import mean_squared_error, r2_score, mean_absolute_error\n",
        "\n",
        "def test_linear_model(df, test_size, feature_size):\n",
        "  # Split the data into training and testing sets with test_size Ratio\n",
        "  X_train, X_test, y_train, y_test = train_test_split(df['Distance'], df['Ping'], test_size=test_size, random_state=42)\n",
        "\n",
        "  # Fit a polynomial regression model on the training set\n",
        "  p = np.polyfit(X_train, y_train, feature_size)\n",
        "\n",
        "  # Use the model to make predictions on the testing set\n",
        "  y_pred = np.polyval(p, X_test)\n",
        "\n",
        "  # Compute the mean squared error (MSE) and R2\n",
        "  print(\"MSE: \", mean_squared_error(y_test, y_pred))\n",
        "  print(\"R2: \", r2_score(y_test, y_pred))\n",
        "  print(\"MAE: \", mean_absolute_error(y_test, y_pred))"
      ],
      "metadata": {
        "id": "NUTuzcGHSEbD"
      },
      "execution_count": 27,
      "outputs": []
    },
    {
      "cell_type": "markdown",
      "source": [
        "Testing for 80-20 train, test ratio"
      ],
      "metadata": {
        "id": "XVkEbP2KSjxe"
      }
    },
    {
      "cell_type": "code",
      "source": [
        "# Testing for 80/20\n",
        "test_linear_model(df, 0.2, 1)"
      ],
      "metadata": {
        "colab": {
          "base_uri": "https://localhost:8080/"
        },
        "id": "QpjeHpV0lfWa",
        "outputId": "2c3bd73c-dfd3-4c8c-cdc8-86d720ca6db9"
      },
      "execution_count": 28,
      "outputs": [
        {
          "output_type": "stream",
          "name": "stdout",
          "text": [
            "MSE:  1373.0736864702772\n",
            "R2:  0.4842243166931137\n",
            "MAE:  27.80793321567443\n"
          ]
        }
      ]
    },
    {
      "cell_type": "markdown",
      "source": [
        "Since our data is really small (only 150 rows) 80-20 might not be a good test."
      ],
      "metadata": {
        "id": "lUtj9Lep5bZ2"
      }
    },
    {
      "cell_type": "code",
      "source": [
        "# Testing for 70/30\n",
        "test_linear_model(df, 0.3, 1)"
      ],
      "metadata": {
        "colab": {
          "base_uri": "https://localhost:8080/"
        },
        "id": "GbTAFEM_4Xu1",
        "outputId": "0d132f4d-cef3-42fc-a320-165f6a6651d8"
      },
      "execution_count": 29,
      "outputs": [
        {
          "output_type": "stream",
          "name": "stdout",
          "text": [
            "MSE:  1070.3796979773724\n",
            "R2:  0.6063153409031681\n",
            "MAE:  23.725472934125346\n"
          ]
        }
      ]
    },
    {
      "cell_type": "markdown",
      "source": [
        "If we only check the R2 value which is 0.6 (1 is the max, 0 is the lowest) we will get a result of 0.6 which is pretty average, but we have to consider that our dataset was quite small (only 150 rows) so the tests here not accurate. but even with this low amount of data we could calculate the RTT in a really good manner. The MAE value is only 23ms which is a quite small margin considering the data that we initially had. "
      ],
      "metadata": {
        "id": "YqlzINWE6GLP"
      }
    },
    {
      "cell_type": "markdown",
      "source": [
        "## Choosing an alternate dataset\n",
        "\n",
        "\n",
        "We have observed that our data fits well inside a linear function we should keep that in mind that our source node was inside a remote place in United States (Lasvegas, Nevada) and our test servers were scattered through the world. Finding short distance routes was hards with this starting node. Our dataset was also relativley small (150 rows). So for more exploration we will test another dataset which comes from a computer in Italy, for privacy reasons I'm not providing the ```source_dict``` data and we will only work on the result."
      ],
      "metadata": {
        "id": "ECerdjF96wrw"
      }
    },
    {
      "cell_type": "code",
      "source": [
        "# Just run the source_dict cell before this\n",
        "# Start from this cell \n",
        "alt_df = pd.read_csv(\"italy-slice_fd.csv\")\n",
        "\n",
        "# Describe \n",
        "alt_df.describe()"
      ],
      "metadata": {
        "id": "LfE3RhBX5QaL",
        "colab": {
          "base_uri": "https://localhost:8080/",
          "height": 300
        },
        "outputId": "daefaf60-a8a2-4f5e-f622-d7195b684749"
      },
      "execution_count": 32,
      "outputs": [
        {
          "output_type": "execute_result",
          "data": {
            "text/plain": [
              "              Ping    Latitude   Longitude      Distance\n",
              "count   149.000000  149.000000  149.000000    149.000000\n",
              "mean    164.428966   22.360773    2.671510   6381.779276\n",
              "std     230.714808   30.717311   72.748108   4034.796288\n",
              "min      10.126293  -37.831800 -124.163700      0.000000\n",
              "25%      65.377322   -6.208700  -53.089700   2291.208196\n",
              "50%     144.602238   34.404800   11.806000   7561.380421\n",
              "75%     203.763101   48.843800   44.629400   9383.368713\n",
              "max    2000.000000   68.564600  153.430900  16555.056599"
            ],
            "text/html": [
              "\n",
              "  <div id=\"df-34e195c0-f8a1-44db-bfbc-47e4dab1e60a\">\n",
              "    <div class=\"colab-df-container\">\n",
              "      <div>\n",
              "<style scoped>\n",
              "    .dataframe tbody tr th:only-of-type {\n",
              "        vertical-align: middle;\n",
              "    }\n",
              "\n",
              "    .dataframe tbody tr th {\n",
              "        vertical-align: top;\n",
              "    }\n",
              "\n",
              "    .dataframe thead th {\n",
              "        text-align: right;\n",
              "    }\n",
              "</style>\n",
              "<table border=\"1\" class=\"dataframe\">\n",
              "  <thead>\n",
              "    <tr style=\"text-align: right;\">\n",
              "      <th></th>\n",
              "      <th>Ping</th>\n",
              "      <th>Latitude</th>\n",
              "      <th>Longitude</th>\n",
              "      <th>Distance</th>\n",
              "    </tr>\n",
              "  </thead>\n",
              "  <tbody>\n",
              "    <tr>\n",
              "      <th>count</th>\n",
              "      <td>149.000000</td>\n",
              "      <td>149.000000</td>\n",
              "      <td>149.000000</td>\n",
              "      <td>149.000000</td>\n",
              "    </tr>\n",
              "    <tr>\n",
              "      <th>mean</th>\n",
              "      <td>164.428966</td>\n",
              "      <td>22.360773</td>\n",
              "      <td>2.671510</td>\n",
              "      <td>6381.779276</td>\n",
              "    </tr>\n",
              "    <tr>\n",
              "      <th>std</th>\n",
              "      <td>230.714808</td>\n",
              "      <td>30.717311</td>\n",
              "      <td>72.748108</td>\n",
              "      <td>4034.796288</td>\n",
              "    </tr>\n",
              "    <tr>\n",
              "      <th>min</th>\n",
              "      <td>10.126293</td>\n",
              "      <td>-37.831800</td>\n",
              "      <td>-124.163700</td>\n",
              "      <td>0.000000</td>\n",
              "    </tr>\n",
              "    <tr>\n",
              "      <th>25%</th>\n",
              "      <td>65.377322</td>\n",
              "      <td>-6.208700</td>\n",
              "      <td>-53.089700</td>\n",
              "      <td>2291.208196</td>\n",
              "    </tr>\n",
              "    <tr>\n",
              "      <th>50%</th>\n",
              "      <td>144.602238</td>\n",
              "      <td>34.404800</td>\n",
              "      <td>11.806000</td>\n",
              "      <td>7561.380421</td>\n",
              "    </tr>\n",
              "    <tr>\n",
              "      <th>75%</th>\n",
              "      <td>203.763101</td>\n",
              "      <td>48.843800</td>\n",
              "      <td>44.629400</td>\n",
              "      <td>9383.368713</td>\n",
              "    </tr>\n",
              "    <tr>\n",
              "      <th>max</th>\n",
              "      <td>2000.000000</td>\n",
              "      <td>68.564600</td>\n",
              "      <td>153.430900</td>\n",
              "      <td>16555.056599</td>\n",
              "    </tr>\n",
              "  </tbody>\n",
              "</table>\n",
              "</div>\n",
              "      <button class=\"colab-df-convert\" onclick=\"convertToInteractive('df-34e195c0-f8a1-44db-bfbc-47e4dab1e60a')\"\n",
              "              title=\"Convert this dataframe to an interactive table.\"\n",
              "              style=\"display:none;\">\n",
              "        \n",
              "  <svg xmlns=\"http://www.w3.org/2000/svg\" height=\"24px\"viewBox=\"0 0 24 24\"\n",
              "       width=\"24px\">\n",
              "    <path d=\"M0 0h24v24H0V0z\" fill=\"none\"/>\n",
              "    <path d=\"M18.56 5.44l.94 2.06.94-2.06 2.06-.94-2.06-.94-.94-2.06-.94 2.06-2.06.94zm-11 1L8.5 8.5l.94-2.06 2.06-.94-2.06-.94L8.5 2.5l-.94 2.06-2.06.94zm10 10l.94 2.06.94-2.06 2.06-.94-2.06-.94-.94-2.06-.94 2.06-2.06.94z\"/><path d=\"M17.41 7.96l-1.37-1.37c-.4-.4-.92-.59-1.43-.59-.52 0-1.04.2-1.43.59L10.3 9.45l-7.72 7.72c-.78.78-.78 2.05 0 2.83L4 21.41c.39.39.9.59 1.41.59.51 0 1.02-.2 1.41-.59l7.78-7.78 2.81-2.81c.8-.78.8-2.07 0-2.86zM5.41 20L4 18.59l7.72-7.72 1.47 1.35L5.41 20z\"/>\n",
              "  </svg>\n",
              "      </button>\n",
              "      \n",
              "  <style>\n",
              "    .colab-df-container {\n",
              "      display:flex;\n",
              "      flex-wrap:wrap;\n",
              "      gap: 12px;\n",
              "    }\n",
              "\n",
              "    .colab-df-convert {\n",
              "      background-color: #E8F0FE;\n",
              "      border: none;\n",
              "      border-radius: 50%;\n",
              "      cursor: pointer;\n",
              "      display: none;\n",
              "      fill: #1967D2;\n",
              "      height: 32px;\n",
              "      padding: 0 0 0 0;\n",
              "      width: 32px;\n",
              "    }\n",
              "\n",
              "    .colab-df-convert:hover {\n",
              "      background-color: #E2EBFA;\n",
              "      box-shadow: 0px 1px 2px rgba(60, 64, 67, 0.3), 0px 1px 3px 1px rgba(60, 64, 67, 0.15);\n",
              "      fill: #174EA6;\n",
              "    }\n",
              "\n",
              "    [theme=dark] .colab-df-convert {\n",
              "      background-color: #3B4455;\n",
              "      fill: #D2E3FC;\n",
              "    }\n",
              "\n",
              "    [theme=dark] .colab-df-convert:hover {\n",
              "      background-color: #434B5C;\n",
              "      box-shadow: 0px 1px 3px 1px rgba(0, 0, 0, 0.15);\n",
              "      filter: drop-shadow(0px 1px 2px rgba(0, 0, 0, 0.3));\n",
              "      fill: #FFFFFF;\n",
              "    }\n",
              "  </style>\n",
              "\n",
              "      <script>\n",
              "        const buttonEl =\n",
              "          document.querySelector('#df-34e195c0-f8a1-44db-bfbc-47e4dab1e60a button.colab-df-convert');\n",
              "        buttonEl.style.display =\n",
              "          google.colab.kernel.accessAllowed ? 'block' : 'none';\n",
              "\n",
              "        async function convertToInteractive(key) {\n",
              "          const element = document.querySelector('#df-34e195c0-f8a1-44db-bfbc-47e4dab1e60a');\n",
              "          const dataTable =\n",
              "            await google.colab.kernel.invokeFunction('convertToInteractive',\n",
              "                                                     [key], {});\n",
              "          if (!dataTable) return;\n",
              "\n",
              "          const docLinkHtml = 'Like what you see? Visit the ' +\n",
              "            '<a target=\"_blank\" href=https://colab.research.google.com/notebooks/data_table.ipynb>data table notebook</a>'\n",
              "            + ' to learn more about interactive tables.';\n",
              "          element.innerHTML = '';\n",
              "          dataTable['output_type'] = 'display_data';\n",
              "          await google.colab.output.renderOutput(dataTable, element);\n",
              "          const docLink = document.createElement('div');\n",
              "          docLink.innerHTML = docLinkHtml;\n",
              "          element.appendChild(docLink);\n",
              "        }\n",
              "      </script>\n",
              "    </div>\n",
              "  </div>\n",
              "  "
            ]
          },
          "metadata": {},
          "execution_count": 32
        }
      ]
    },
    {
      "cell_type": "markdown",
      "source": [
        "We can already see that the source node being in Europe equals to a lower mean value for distance and also lower mean value for RTT."
      ],
      "metadata": {
        "id": "JDIsY8rlUaGt"
      }
    },
    {
      "cell_type": "code",
      "source": [
        "# Filtering out the timeout requests\n",
        "alt_df = alt_df[alt_df[\"Ping\"] != 2000]\n",
        "\n",
        "# Checking if there is any 2000 RTT remaining\n",
        "alt_df[\"Ping\"].isin([2000]).any()"
      ],
      "metadata": {
        "colab": {
          "base_uri": "https://localhost:8080/"
        },
        "id": "Ss076MxhWSms",
        "outputId": "5c561213-8298-4aae-d6e8-418a8fc8b918"
      },
      "execution_count": 34,
      "outputs": [
        {
          "output_type": "execute_result",
          "data": {
            "text/plain": [
              "False"
            ]
          },
          "metadata": {},
          "execution_count": 34
        }
      ]
    },
    {
      "cell_type": "code",
      "source": [
        "# Re-calculate the coefficients of a linear regression model for Italy data\n",
        "# y = mx + b\n",
        "m, b = np.polyfit(alt_df[\"Distance\"], alt_df[\"Ping\"], 1)\n",
        "\n",
        "# Create a function for the line of best fit\n",
        "best_fit_line = np.poly1d((m, b))\n",
        "\n",
        "# Creates the initial scatter plot\n",
        "plt.scatter(alt_df[\"Distance\"], alt_df[\"Ping\"])\n",
        "\n",
        "# Plot the line of best fit\n",
        "plt.plot(alt_df[\"Distance\"], best_fit_line(alt_df[\"Distance\"]), color='red')\n",
        "\n",
        "plt.xlabel(\"Distance\")\n",
        "plt.ylabel(\"RTT\")\n",
        "plt.title(\"Scatter plot and best fit line of Distance and RTT\")\n",
        "\n",
        "# show the plot\n",
        "plt.show()"
      ],
      "metadata": {
        "colab": {
          "base_uri": "https://localhost:8080/",
          "height": 295
        },
        "id": "EdYosdYJTbr9",
        "outputId": "cd2fcd21-9cb7-41d8-a732-04477dfe1bc1"
      },
      "execution_count": 35,
      "outputs": [
        {
          "output_type": "display_data",
          "data": {
            "text/plain": [
              "<Figure size 432x288 with 1 Axes>"
            ],
            "image/png": "[encoded data removed]"
          },
          "metadata": {
            "needs_background": "light"
          }
        }
      ]
    },
    {
      "cell_type": "markdown",
      "source": [
        "We see that having our source node in Europe the linear function fits very well for distances lower than 5000km (which is probably a place close or inside the mainland Europe). for numbers higher than 5000km it still fits but they are some outliers. "
      ],
      "metadata": {
        "id": "otnofJrIWaxf"
      }
    },
    {
      "cell_type": "markdown",
      "source": [
        "Let's test MSE and R2 score for our model. "
      ],
      "metadata": {
        "id": "B6mxeou2W2j1"
      }
    },
    {
      "cell_type": "code",
      "source": [
        "# Testing for 80/20\n",
        "test_linear_model(alt_df, 0.2, 1)"
      ],
      "metadata": {
        "colab": {
          "base_uri": "https://localhost:8080/"
        },
        "id": "8xoa9-neWaNY",
        "outputId": "7c873367-152f-4c61-be0a-866f9a8ed549"
      },
      "execution_count": 36,
      "outputs": [
        {
          "output_type": "stream",
          "name": "stdout",
          "text": [
            "MSE:  1023.2434632369038\n",
            "R2:  0.8899343546958851\n",
            "MAE:  22.941724950696578\n"
          ]
        }
      ]
    },
    {
      "cell_type": "code",
      "source": [
        "# Testing for 70/30\n",
        "test_linear_model(alt_df, 0.3, 1)"
      ],
      "metadata": {
        "colab": {
          "base_uri": "https://localhost:8080/"
        },
        "id": "L5Nne8I7WJf-",
        "outputId": "2f3065c2-bc3f-49de-b395-b3177c0fcd5d"
      },
      "execution_count": 37,
      "outputs": [
        {
          "output_type": "stream",
          "name": "stdout",
          "text": [
            "MSE:  1630.2462658964587\n",
            "R2:  0.8300285286710992\n",
            "MAE:  26.709956803855768\n"
          ]
        }
      ]
    },
    {
      "cell_type": "markdown",
      "source": [
        "We see that by having a source node inside the europe we can achieve a R2 score of 0.88 which is pretty impressive! but we see that our MSE value stays the same for both EU and US source nodes!"
      ],
      "metadata": {
        "id": "WBY-pwTPXG1a"
      }
    },
    {
      "cell_type": "markdown",
      "source": [
        "## Diving deeper Into The Problem\n",
        "\n",
        "By observing the data of two datasets that we worked on, we see that the model fits really well for shorter distances and the error gets bigger when we move to longer distances. When we think closely this might be due to continent's location. In order to analyze this we make a correlation heatmap between RTT, Distance and Continents. Since Continent is a label and not a numerical value we first transform it to a numerical value using ```pd.factorize```. "
      ],
      "metadata": {
        "id": "goXP_5TrY59D"
      }
    },
    {
      "cell_type": "code",
      "source": [
        "# Convert the 'Continent' column to a numeric representation\n",
        "df['Continent_num'] = pd.factorize(df['Continent'])[0]\n",
        "alt_df['Continent_num'] = pd.factorize(alt_df['Continent'])[0]\n",
        "\n",
        "# Calculate the correlation matrices\n",
        "corr_matrix1 = df[['Ping', 'Distance', 'Continent_num']].corr()\n",
        "corr_matrix2 = alt_df[['Ping', 'Distance', 'Continent_num']].corr()\n",
        "\n",
        "# Create a figure with two subplots\n",
        "fig, (ax1, ax2) = plt.subplots(ncols=2, figsize=(10, 5))\n",
        "\n",
        "# Plot the heatmaps on the subplots\n",
        "sns.heatmap(corr_matrix1, annot=True, cmap='coolwarm', ax=ax1)\n",
        "sns.heatmap(corr_matrix2, annot=True, cmap='coolwarm', ax=ax2)\n",
        "\n",
        "# Set the titles for the subplots\n",
        "ax1.set_title('North American Data')\n",
        "ax2.set_title('Europe Data')\n",
        "\n",
        "# Show the plot\n",
        "plt.show()"
      ],
      "metadata": {
        "colab": {
          "base_uri": "https://localhost:8080/",
          "height": 337
        },
        "id": "XB9gS5z-XE9i",
        "outputId": "3c4cf6fd-0764-4d0b-9be1-971d7b8d3e9b"
      },
      "execution_count": 62,
      "outputs": [
        {
          "output_type": "display_data",
          "data": {
            "text/plain": [
              "<Figure size 720x360 with 4 Axes>"
            ],
            "image/png": "[encoded data removed]"
          },
          "metadata": {
            "needs_background": "light"
          }
        }
      ]
    },
    {
      "cell_type": "markdown",
      "source": [
        "By Analysing the the correlation heat map we observe that inside Europe the correlation of RTT and Continent is more than 0.5 which always make exploring that feature interesting. For North America value the correlation is 0.34 which considering the distance of our source with other destinations is something to be expected.\n"
      ],
      "metadata": {
        "id": "70dxVvNpepSh"
      }
    },
    {
      "cell_type": "markdown",
      "source": [
        "Since the value of continents is not numerical and there is no priority or hiearchy between them (for example academic degree of people is also categorial but there is a hiearchy) we can use one-hot encoding. One-hot encoding is a technique used to represent categorical data in a numerical format that can be used in machine learning models. In one-hot encoding, each category is converted into a binary vector of 0s and 1s, where each vector has a length equal to the number of categories in the variable. Since we now have multiple features (Continent is now a consists of 6 coloumns itself). we will use linear regression to calculate these features. (polynomial model that we used ```np.polyfit``` limits us to have a 1D, X) "
      ],
      "metadata": {
        "id": "avl2v27JfCo8"
      }
    },
    {
      "cell_type": "code",
      "source": [
        "from sklearn.linear_model import LinearRegression\n",
        "\n",
        "def test_linear_model_with_continent(df, test_size):\n",
        "  # Concatenate 'Distance' and 'Continent' columns, One-hot encoding for Continents\n",
        "  X = pd.concat([df['Distance'], pd.get_dummies(df['Continent'])], axis=1)\n",
        "\n",
        "  # Split the data into training and testing sets with test_size Ratio\n",
        "  X_train, X_test, y_train, y_test = train_test_split(X, df['Ping'], test_size=test_size, random_state=42)\n",
        "\n",
        "  # Fit a linear regression model on the training set\n",
        "  lr = LinearRegression().fit(X_train, y_train)\n",
        "\n",
        "  # Use the model to make predictions on the testing set\n",
        "  y_pred = lr.predict(X_test)\n",
        "\n",
        "  # Compute the mean squared error (MSE) and R2\n",
        "  print(\"MSE: \", mean_squared_error(y_test, y_pred))\n",
        "  print(\"R2: \", r2_score(y_test, y_pred))\n",
        "  print(\"MAE: \", mean_absolute_error(y_test, y_pred))"
      ],
      "metadata": {
        "id": "dU1FQqlHZJaF"
      },
      "execution_count": 63,
      "outputs": []
    },
    {
      "cell_type": "markdown",
      "source": [
        "Testing the linear regression for European Dataset"
      ],
      "metadata": {
        "id": "z4bXjMnXgQ87"
      }
    },
    {
      "cell_type": "code",
      "source": [
        "# Testing for 80/20\n",
        "test_linear_model_with_continent(alt_df, 0.2)"
      ],
      "metadata": {
        "colab": {
          "base_uri": "https://localhost:8080/"
        },
        "id": "KxA2H3eRgQk8",
        "outputId": "30647cab-0e67-4e09-a5f8-f253c9765007"
      },
      "execution_count": 71,
      "outputs": [
        {
          "output_type": "stream",
          "name": "stdout",
          "text": [
            "MSE:  676.5399611307225\n",
            "R2:  0.9272276734997976\n",
            "MAE:  17.48706433846105\n"
          ]
        }
      ]
    },
    {
      "cell_type": "code",
      "source": [
        "# Testing for 70/30\n",
        "test_linear_model_with_continent(alt_df, 0.3)"
      ],
      "metadata": {
        "colab": {
          "base_uri": "https://localhost:8080/"
        },
        "id": "DTJIr_VraW9a",
        "outputId": "20b66453-f404-4614-9aad-d569daaa69dc"
      },
      "execution_count": 70,
      "outputs": [
        {
          "output_type": "stream",
          "name": "stdout",
          "text": [
            "MSE:  1505.776871795078\n",
            "R2:  0.8430058600678344\n",
            "MAE:  24.085837802015035\n"
          ]
        }
      ]
    },
    {
      "cell_type": "markdown",
      "source": [
        "Testing the linear regression for North American Dataset"
      ],
      "metadata": {
        "id": "rZUl8jpmgokD"
      }
    },
    {
      "cell_type": "code",
      "source": [
        "# Testing for 80/20\n",
        "test_linear_model_with_continent(df, 0.2)"
      ],
      "metadata": {
        "colab": {
          "base_uri": "https://localhost:8080/"
        },
        "id": "sOvSB4G3goSO",
        "outputId": "96b3736e-ff9e-4c4a-d68a-f41ded63e9c6"
      },
      "execution_count": 72,
      "outputs": [
        {
          "output_type": "stream",
          "name": "stdout",
          "text": [
            "MSE:  836.4174424704972\n",
            "R2:  0.6858116340216112\n",
            "MAE:  20.251264892475433\n"
          ]
        }
      ]
    },
    {
      "cell_type": "code",
      "source": [
        "# Testing for 70/30\n",
        "test_linear_model_with_continent(df, 0.3)"
      ],
      "metadata": {
        "colab": {
          "base_uri": "https://localhost:8080/"
        },
        "id": "_EQNRGA6aufb",
        "outputId": "93fa5944-51b2-40fb-dcca-0e109ac0a90b"
      },
      "execution_count": 74,
      "outputs": [
        {
          "output_type": "stream",
          "name": "stdout",
          "text": [
            "MSE:  710.4144324358906\n",
            "R2:  0.7387102313510945\n",
            "MAE:  18.73145919216584\n"
          ]
        }
      ]
    },
    {
      "cell_type": "markdown",
      "source": [
        "With these results we move to the Conclusion."
      ],
      "metadata": {
        "id": "KWTunRFng7SO"
      }
    },
    {
      "cell_type": "markdown",
      "source": [
        "## Interpret the Results and Draw Conclusions\n",
        "After analyzing the situation, we determined that the propagation delay has little significance, and that the main factors contributing to delays are bandwidth, congestion, and routing (the number of routers involved). Based on our data, we observed a linear relationship between RTT and distance. Upon further investigation, we discovered a correlation between RTT and continent. Although this correlation likely exists for countries and regions as well, we only analyzed the continent due to the limited amount of data. To incorporate the continent variable into our analysis, we utilized one-hot encoding and attempted to fit it to the distanc and used linear regression to model it.\n"
      ],
      "metadata": {
        "id": "yPqQt9pkhDca"
      }
    },
    {
      "cell_type": "markdown",
      "source": [
        "Here is our aggregated final results.\n",
        "\n",
        "| Model | Test Size | MSE | R2 | MAE |\n",
        "| :----: | :----: | :---: | :--: | :---: |\n",
        "| Europe - polyfit | 0.2 | 1023.24 | 0.88 | 22.94ms |\n",
        "| Europe - linear regression | 0.2 | 676.53 | 0.92 | 17.48ms |\n",
        "| Europe - polyfit | 0.3 | 1630.24 | 0.83 | 26.70ms |\n",
        "| Europe - linear regression | 0.3 | 1505.77 | 0.84 | 24.08ms |\n",
        "| North America - polyfit | 0.2 | 1373.07 | 0.48 | 27.80ms |\n",
        "| North America - linear regression | 0.2 | 836.41 | 0.68 | 20.25ms |\n",
        "| North America - polyfit | 0.3 | 1070.37 | 0.60 | 23.72ms |\n",
        "| North America - linear regression | 0.3 | 710.41 | 0.73 | 18.73ms |\n"
      ],
      "metadata": {
        "id": "sscPW_vAkk6n"
      }
    },
    {
      "cell_type": "markdown",
      "source": [
        "Since our dataset was really small we calculated both test size of ```0.2``` and ```0.3``` we found out that with both values using linear reggresion with continents drastically improves the accuracy. The results would be much more meaningful and accurate if our dataset was bigger. But in any case we can estimate the RTT based on distance with a really good accuracy. "
      ],
      "metadata": {
        "id": "x_46HN7wkkdf"
      }
    },
    {
      "cell_type": "markdown",
      "source": [
        "Something else to keep in mind that the Continent value is not a statistically independent value from Distance. shorter the distance the more chance that we are still in the same continent. something else that can be done in the future with bigger datasets is to make new features with distance, continent and country values. This will drastically increase our estimate accuracy. "
      ],
      "metadata": {
        "id": "aJGGsoz3osxj"
      }
    },
    {
      "cell_type": "markdown",
      "source": [
        "Hessam Hashemizadeh"
      ],
      "metadata": {
        "id": "xFHZfQZvpXjv"
      }
    },
    {
      "cell_type": "code",
      "source": [],
      "metadata": {
        "id": "KHIAnqlmkjra"
      },
      "execution_count": null,
      "outputs": []
    }
  ]
}